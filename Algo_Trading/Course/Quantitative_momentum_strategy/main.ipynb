{
 "cells": [
  {
   "cell_type": "code",
   "execution_count": 1,
   "metadata": {
    "collapsed": true
   },
   "outputs": [],
   "source": [
    "import numpy as np\n",
    "import pandas as pd\n",
    "import requests\n",
    "import math\n",
    "import xlsxwriter\n",
    "from scipy import stats\n",
    "from secret import IEX_CLOUD_API_TOKEN\n"
   ]
  },
  {
   "cell_type": "code",
   "execution_count": 2,
   "outputs": [
    {
     "data": {
      "text/plain": "    Ticker\n0        A\n1      AAL\n2      AAP\n3     AAPL\n4     ABBV\n..     ...\n500    YUM\n501    ZBH\n502   ZBRA\n503   ZION\n504    ZTS\n\n[505 rows x 1 columns]",
      "text/html": "<div>\n<style scoped>\n    .dataframe tbody tr th:only-of-type {\n        vertical-align: middle;\n    }\n\n    .dataframe tbody tr th {\n        vertical-align: top;\n    }\n\n    .dataframe thead th {\n        text-align: right;\n    }\n</style>\n<table border=\"1\" class=\"dataframe\">\n  <thead>\n    <tr style=\"text-align: right;\">\n      <th></th>\n      <th>Ticker</th>\n    </tr>\n  </thead>\n  <tbody>\n    <tr>\n      <th>0</th>\n      <td>A</td>\n    </tr>\n    <tr>\n      <th>1</th>\n      <td>AAL</td>\n    </tr>\n    <tr>\n      <th>2</th>\n      <td>AAP</td>\n    </tr>\n    <tr>\n      <th>3</th>\n      <td>AAPL</td>\n    </tr>\n    <tr>\n      <th>4</th>\n      <td>ABBV</td>\n    </tr>\n    <tr>\n      <th>...</th>\n      <td>...</td>\n    </tr>\n    <tr>\n      <th>500</th>\n      <td>YUM</td>\n    </tr>\n    <tr>\n      <th>501</th>\n      <td>ZBH</td>\n    </tr>\n    <tr>\n      <th>502</th>\n      <td>ZBRA</td>\n    </tr>\n    <tr>\n      <th>503</th>\n      <td>ZION</td>\n    </tr>\n    <tr>\n      <th>504</th>\n      <td>ZTS</td>\n    </tr>\n  </tbody>\n</table>\n<p>505 rows × 1 columns</p>\n</div>"
     },
     "execution_count": 2,
     "metadata": {},
     "output_type": "execute_result"
    }
   ],
   "source": [
    "stock_data = pd.read_csv('sp_500_stocks.csv')\n",
    "stock_data"
   ],
   "metadata": {
    "collapsed": false
   }
  },
  {
   "cell_type": "code",
   "execution_count": 3,
   "outputs": [
    {
     "name": "stdout",
     "output_type": "stream",
     "text": [
      "{'companyName': 'Apple Inc', 'marketcap': 2613943698660, 'week52high': 175.37, 'week52low': 123.98, 'week52highSplitAdjustOnly': 176.15, 'week52lowSplitAdjustOnly': 124.17, 'week52change': 0.006840248745182409, 'sharesOutstanding': 15821946000, 'float': 0, 'avg10Volume': 52665258, 'avg30Volume': 56925376, 'day200MovingAvg': 146.13, 'day50MovingAvg': 156.87, 'employees': 164000, 'ttmEPS': 5.88, 'ttmDividendRate': 0.9170023129162208, 'dividendYield': 0.005550525470106051, 'nextDividendDate': '', 'exDividendDate': '2023-02-10', 'nextEarningsDate': '2023-05-04', 'peRatio': 27.46575846276702, 'beta': 1.2982257376011077, 'maxChangePercent': 63.14427706165554, 'year5ChangePercent': 2.947632519641389, 'year2ChangePercent': 0.24783605695588729, 'year1ChangePercent': 0.006840248745182409, 'ytdChangePercent': 0.27347244586720776, 'month6ChangePercent': 0.19920474020134105, 'month3ChangePercent': 0.2278287029949182, 'month1ChangePercent': 0.06005774783445639, 'day30ChangePercent': 0.06587096774193557, 'day5ChangePercent': 0.0033402162030851112}\n"
     ]
    }
   ],
   "source": [
    "base_url = 'https://cloud.iexapis.com/'\n",
    "symbol = 'AAPL'\n",
    "api_url = f'{base_url}stable/stock/{symbol}/stats?token={IEX_CLOUD_API_TOKEN}'\n",
    "data = requests.get(api_url).json()\n",
    "print(data)\n"
   ],
   "metadata": {
    "collapsed": false
   }
  },
  {
   "cell_type": "code",
   "execution_count": 4,
   "outputs": [
    {
     "data": {
      "text/plain": "0         A\n1       AAL\n2       AAP\n3      AAPL\n4      ABBV\n       ... \n500     YUM\n501     ZBH\n502    ZBRA\n503    ZION\n504     ZTS\nName: Ticker, Length: 505, dtype: object"
     },
     "execution_count": 4,
     "metadata": {},
     "output_type": "execute_result"
    }
   ],
   "source": [
    "data['year1ChangePercent']\n",
    "Symbol = stock_data['Ticker']\n",
    "Symbol"
   ],
   "metadata": {
    "collapsed": false
   }
  },
  {
   "cell_type": "code",
   "execution_count": 5,
   "outputs": [
    {
     "data": {
      "text/plain": "['Ticker', 'Price', 'One-Year Price Return', 'Number of Shares to Buy']"
     },
     "execution_count": 5,
     "metadata": {},
     "output_type": "execute_result"
    }
   ],
   "source": [
    "def chunks(lst, n):\n",
    "    for i in range(0, len(lst), n):\n",
    "        yield lst[i:i+n]\n",
    "symbol_strings = []\n",
    "\n",
    "symbol_groups = list(chunks(Symbol, 100))\n",
    "\n",
    "for i in range(0, len(symbol_groups)):\n",
    "    symbol_strings.append(','. join(symbol_groups[i]))\n",
    "my_columns = ['Ticker', 'Price', 'One-Year Price Return', 'Number of Shares to Buy']\n",
    "my_columns\n",
    "# symbol_string"
   ],
   "metadata": {
    "collapsed": false
   }
  },
  {
   "cell_type": "code",
   "execution_count": 6,
   "outputs": [
    {
     "data": {
      "text/plain": "Empty DataFrame\nColumns: [Ticker, Price, One-Year Price Return, Number of Shares to Buy]\nIndex: []",
      "text/html": "<div>\n<style scoped>\n    .dataframe tbody tr th:only-of-type {\n        vertical-align: middle;\n    }\n\n    .dataframe tbody tr th {\n        vertical-align: top;\n    }\n\n    .dataframe thead th {\n        text-align: right;\n    }\n</style>\n<table border=\"1\" class=\"dataframe\">\n  <thead>\n    <tr style=\"text-align: right;\">\n      <th></th>\n      <th>Ticker</th>\n      <th>Price</th>\n      <th>One-Year Price Return</th>\n      <th>Number of Shares to Buy</th>\n    </tr>\n  </thead>\n  <tbody>\n  </tbody>\n</table>\n</div>"
     },
     "execution_count": 6,
     "metadata": {},
     "output_type": "execute_result"
    }
   ],
   "source": [
    "df = pd.DataFrame(columns=my_columns)\n",
    "df"
   ],
   "metadata": {
    "collapsed": false
   }
  },
  {
   "cell_type": "code",
   "execution_count": 12,
   "outputs": [],
   "source": [
    "\n",
    "# final_dataframe = pd.DataFrame(columns = my_columns)\n",
    "# final_dataframe\n",
    "tickers = []\n",
    "prices = []\n",
    "change_percent = []\n",
    "no_of_shares_to_buy = []\n",
    "for symbol_string in symbol_strings:\n",
    "#     print(symbol_strings)\n",
    "    batch_api_call_url = f'{base_url}stable/stock/market/batch/?types=stats,quote&symbols={symbol_string}&token={IEX_CLOUD_API_TOKEN}'\n",
    "    data = requests.get(batch_api_call_url).json()\n",
    "    for symbol in symbol_string.split(','):\n",
    "        try:\n",
    "            current_symbol = symbol\n",
    "            symbol_price = data[symbol]['quote']['latestPrice']\n",
    "            symbol_change = data[symbol]['stats']['year1ChangePercent']\n",
    "            shares_to_buy = 'N/A'\n",
    "        except:\n",
    "            pass\n",
    "        else:\n",
    "            tickers.append(current_symbol)\n",
    "            change_percent.append(symbol_change)\n",
    "            prices.append(symbol_price)\n",
    "            no_of_shares_to_buy.append(shares_to_buy)\n",
    "output = {\n",
    "    'Ticker': tickers,\n",
    "    'Price': prices,\n",
    "    'One-Year Price Return': change_percent,\n",
    "    'Number of Shares to Buy': no_of_shares_to_buy\n",
    "}\n",
    "final_dataframe = pd.DataFrame(output)\n",
    "\n"
   ],
   "metadata": {
    "collapsed": false
   }
  },
  {
   "cell_type": "code",
   "execution_count": 15,
   "outputs": [],
   "source": [
    "final_dataframe.sort_values('One-Year Price Return', inplace=True, ascending=False)\n",
    "final_dataframe.reset_index(drop=True)\n",
    "final_dataframe = final_dataframe[:50]"
   ],
   "metadata": {
    "collapsed": false
   }
  },
  {
   "cell_type": "markdown",
   "source": [],
   "metadata": {
    "collapsed": false
   }
  },
  {
   "cell_type": "code",
   "execution_count": 16,
   "outputs": [
    {
     "data": {
      "text/plain": "50"
     },
     "execution_count": 16,
     "metadata": {},
     "output_type": "execute_result"
    }
   ],
   "source": [
    "portfolio_size = input('Enter the size of your portfolio ')"
   ],
   "metadata": {
    "collapsed": false
   }
  },
  {
   "cell_type": "code",
   "execution_count": null,
   "outputs": [],
   "source": [],
   "metadata": {
    "collapsed": false
   }
  }
 ],
 "metadata": {
  "kernelspec": {
   "display_name": "Python 3",
   "language": "python",
   "name": "python3"
  },
  "language_info": {
   "codemirror_mode": {
    "name": "ipython",
    "version": 2
   },
   "file_extension": ".py",
   "mimetype": "text/x-python",
   "name": "python",
   "nbconvert_exporter": "python",
   "pygments_lexer": "ipython2",
   "version": "2.7.6"
  }
 },
 "nbformat": 4,
 "nbformat_minor": 0
}
