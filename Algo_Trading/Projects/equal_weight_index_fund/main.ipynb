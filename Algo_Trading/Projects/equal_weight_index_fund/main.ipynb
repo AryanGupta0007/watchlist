{
 "cells": [
  {
   "cell_type": "code",
   "execution_count": 6,
   "metadata": {
    "collapsed": true
   },
   "outputs": [],
   "source": [
    "import yahoo_fin.stock_info as si\n",
    "import pandas as pd\n",
    "from datetime import datetime\n",
    "from datetime import timedelta\n",
    "from tvDatafeed import Interval, TvDatafeed\n",
    "import time\n"
   ]
  },
  {
   "cell_type": "code",
   "execution_count": 30,
   "outputs": [
    {
     "name": "stderr",
     "output_type": "stream",
     "text": [
      "WARNING:tvDatafeed.main:you are using nologin method, data you access may be limited\n"
     ]
    }
   ],
   "source": [
    "stocks_data = pd.read_csv('stocks.csv')\n",
    "\n",
    "tv = TvDatafeed()\n",
    "prices = []\n",
    "tickers = []\n",
    "symbolToFetchFor = stocks_data['Stock']\n",
    "for ticker in symbolToFetchFor:\n",
    "    time.sleep(1)\n",
    "    try:\n",
    "        df = tv.get_hist(symbol=ticker, exchange='NSE', interval=Interval.in_daily, n_bars=1000).reset_index()\n",
    "    except:\n",
    "        print(f'no data found for {ticker} ')\n",
    "    else:\n",
    "        prices.append(df.iloc[998, 5])\n"
   ],
   "metadata": {
    "collapsed": false
   }
  },
  {
   "cell_type": "code",
   "execution_count": 8,
   "outputs": [],
   "source": [
    "stocks_data['Price'] = prices"
   ],
   "metadata": {
    "collapsed": false
   }
  },
  {
   "cell_type": "code",
   "execution_count": 9,
   "outputs": [],
   "source": [
    "stocks_data.to_csv('stocks.csv', index=False)"
   ],
   "metadata": {
    "collapsed": false
   }
  },
  {
   "cell_type": "code",
   "execution_count": 10,
   "outputs": [
    {
     "name": "stdout",
     "output_type": "stream",
     "text": [
      "         Stock  Weightage        Price\n",
      "0     RELIANCE     0.1286   2355.50000\n",
      "1     HDFCBANK     0.0810   1692.45000\n",
      "2         INFY     0.0766   1389.20000\n",
      "3    ICICIBANK     0.0690    899.00000\n",
      "4          TCS     0.0491   3188.85010\n",
      "5    KOTAKBANK     0.0351   1869.50000\n",
      "6          ITC     0.0303    395.60001\n",
      "7           LT     0.0274   2258.75000\n",
      "8   HINDUNILVR     0.0267   2536.20000\n",
      "9     AXISBANK     0.0257    864.34998\n",
      "10        SBIN     0.0254    532.95001\n",
      "11  BAJFINANCE     0.0237   5904.45020\n",
      "12  BHARTIARTL     0.0233    767.04999\n",
      "13  ASIANPAINT     0.0195   2809.75000\n",
      "14     HCLTECH     0.0153   1071.85000\n",
      "15       TITAN     0.0137   2585.64990\n",
      "16   TATASTEEL     0.0137    107.50000\n",
      "17      MARUTI     0.0137   8670.79980\n",
      "18   SUNPHARMA     0.0134   1003.50000\n",
      "19  BAJAJFINSV     0.0120   1341.30000\n",
      "20       TECHM     0.0105   1086.85000\n",
      "21  TATAMOTORS     0.0105    469.50000\n",
      "22   POWERGRID     0.0104    231.20000\n",
      "23  ULTRACEMCO     0.0102   7655.25000\n",
      "24       WIPRO     0.0101    368.29999\n",
      "25        NTPC     0.0099    173.05000\n",
      "26    HINDALCO     0.0094    422.04999\n",
      "27    JSWSTEEL     0.0094    720.65002\n",
      "28   NESTLEIND     0.0087  19465.35000\n",
      "29      GRASIM     0.0085   1701.10000\n",
      "30  INDUSINDBK     0.0085   1109.30000\n",
      "31  ADANIPORTS     0.0082    661.65002\n",
      "32        ONGC     0.0078    158.75000\n",
      "33    HDFCLIFE     0.0072    531.84998\n",
      "34    DIVISLAB     0.0077   3183.95000\n",
      "35       CIPLA     0.0068    915.75000\n",
      "36     DRREDDY     0.0067   4852.89990\n",
      "37  TATACONSUM     0.0066    719.59998\n",
      "38     SBILIFE     0.0065   1130.25000\n",
      "39         UPL     0.0060    737.00000\n",
      "40  APOLLOHOSP     0.0061   4398.29980\n",
      "41   BRITANNIA     0.0052   4264.20020\n",
      "42   EICHERMOT     0.0049   3213.05000\n",
      "43   COALINDIA     0.0051    225.50000\n",
      "44        BPCL     0.0046    332.25000\n",
      "45    SHREECEM     0.0046  25808.19900\n",
      "46  HEROMOTOCO     0.0043   2447.05000\n",
      "47    HDFCBANK     0.0810   1692.45000\n"
     ]
    }
   ],
   "source": [
    "# portfolio_size = float(input('Enter your portfolio size: '))\n",
    "print(stocks_data)"
   ],
   "metadata": {
    "collapsed": false
   }
  },
  {
   "cell_type": "code",
   "execution_count": 16,
   "outputs": [
    {
     "name": "stdout",
     "output_type": "stream",
     "text": [
      "         Stock  Weightage        Price  toBeInvested  noOfSharesToBuy   \n",
      "0     RELIANCE     0.1286   2355.50000       57870.0             24.0  \\\n",
      "1     HDFCBANK     0.0810   1692.45000       36450.0             21.0   \n",
      "2         INFY     0.0766   1389.20000       34470.0             24.0   \n",
      "3    ICICIBANK     0.0690    899.00000       31050.0             34.0   \n",
      "4          TCS     0.0491   3188.85010       22095.0              6.0   \n",
      "5    KOTAKBANK     0.0351   1869.50000       15795.0              8.0   \n",
      "6          ITC     0.0303    395.60001       13635.0             34.0   \n",
      "7           LT     0.0274   2258.75000       12330.0              5.0   \n",
      "8   HINDUNILVR     0.0267   2536.20000       12015.0              4.0   \n",
      "9     AXISBANK     0.0257    864.34998       11565.0             13.0   \n",
      "10        SBIN     0.0254    532.95001       11430.0             21.0   \n",
      "11  BAJFINANCE     0.0237   5904.45020       10665.0              1.0   \n",
      "12  BHARTIARTL     0.0233    767.04999       10485.0             13.0   \n",
      "13  ASIANPAINT     0.0195   2809.75000        8775.0              3.0   \n",
      "14     HCLTECH     0.0153   1071.85000        6885.0              6.0   \n",
      "15       TITAN     0.0137   2585.64990        6165.0              2.0   \n",
      "16   TATASTEEL     0.0137    107.50000        6165.0             57.0   \n",
      "17      MARUTI     0.0137   8670.79980        6165.0              0.0   \n",
      "18   SUNPHARMA     0.0134   1003.50000        6030.0              6.0   \n",
      "19  BAJAJFINSV     0.0120   1341.30000        5400.0              4.0   \n",
      "20       TECHM     0.0105   1086.85000        4725.0              4.0   \n",
      "21  TATAMOTORS     0.0105    469.50000        4725.0             10.0   \n",
      "22   POWERGRID     0.0104    231.20000        4680.0             20.0   \n",
      "23  ULTRACEMCO     0.0102   7655.25000        4590.0              0.0   \n",
      "24       WIPRO     0.0101    368.29999        4545.0             12.0   \n",
      "25        NTPC     0.0099    173.05000        4455.0             25.0   \n",
      "26    HINDALCO     0.0094    422.04999        4230.0             10.0   \n",
      "27    JSWSTEEL     0.0094    720.65002        4230.0              5.0   \n",
      "28   NESTLEIND     0.0087  19465.35000        3915.0              0.0   \n",
      "29      GRASIM     0.0085   1701.10000        3825.0              2.0   \n",
      "30  INDUSINDBK     0.0085   1109.30000        3825.0              3.0   \n",
      "31  ADANIPORTS     0.0082    661.65002        3690.0              5.0   \n",
      "32        ONGC     0.0078    158.75000        3510.0             22.0   \n",
      "33    HDFCLIFE     0.0072    531.84998        3240.0              6.0   \n",
      "34    DIVISLAB     0.0077   3183.95000        3465.0              1.0   \n",
      "35       CIPLA     0.0068    915.75000        3060.0              3.0   \n",
      "36     DRREDDY     0.0067   4852.89990        3015.0              0.0   \n",
      "37  TATACONSUM     0.0066    719.59998        2970.0              4.0   \n",
      "38     SBILIFE     0.0065   1130.25000        2925.0              2.0   \n",
      "39         UPL     0.0060    737.00000        2700.0              3.0   \n",
      "40  APOLLOHOSP     0.0061   4398.29980        2745.0              0.0   \n",
      "41   BRITANNIA     0.0052   4264.20020        2340.0              0.0   \n",
      "42   EICHERMOT     0.0049   3213.05000        2205.0              0.0   \n",
      "43   COALINDIA     0.0051    225.50000        2295.0             10.0   \n",
      "44        BPCL     0.0046    332.25000        2070.0              6.0   \n",
      "45    SHREECEM     0.0046  25808.19900        2070.0              0.0   \n",
      "46  HEROMOTOCO     0.0043   2447.05000        1935.0              0.0   \n",
      "47    HDFCBANK     0.0810   1692.45000       36450.0             21.0   \n",
      "\n",
      "    Money Invested  \n",
      "0      56532.00000  \n",
      "1      35541.45000  \n",
      "2      33340.80000  \n",
      "3      30566.00000  \n",
      "4      19133.10060  \n",
      "5      14956.00000  \n",
      "6      13450.40034  \n",
      "7      11293.75000  \n",
      "8      10144.80000  \n",
      "9      11236.54974  \n",
      "10     11191.95021  \n",
      "11      5904.45020  \n",
      "12      9971.64987  \n",
      "13      8429.25000  \n",
      "14      6431.10000  \n",
      "15      5171.29980  \n",
      "16      6127.50000  \n",
      "17         0.00000  \n",
      "18      6021.00000  \n",
      "19      5365.20000  \n",
      "20      4347.40000  \n",
      "21      4695.00000  \n",
      "22      4624.00000  \n",
      "23         0.00000  \n",
      "24      4419.59988  \n",
      "25      4326.25000  \n",
      "26      4220.49990  \n",
      "27      3603.25010  \n",
      "28         0.00000  \n",
      "29      3402.20000  \n",
      "30      3327.90000  \n",
      "31      3308.25010  \n",
      "32      3492.50000  \n",
      "33      3191.09988  \n",
      "34      3183.95000  \n",
      "35      2747.25000  \n",
      "36         0.00000  \n",
      "37      2878.39992  \n",
      "38      2260.50000  \n",
      "39      2211.00000  \n",
      "40         0.00000  \n",
      "41         0.00000  \n",
      "42         0.00000  \n",
      "43      2255.00000  \n",
      "44      1993.50000  \n",
      "45         0.00000  \n",
      "46         0.00000  \n",
      "47     35541.45000  \n"
     ]
    }
   ],
   "source": [
    "portfolio_size = 450000\n",
    "stonks_data = pd.read_csv('stocks.csv')\n",
    "stonks_data['toBeInvested'] = stonks_data['Weightage'] * portfolio_size\n",
    "stonks_data['noOfSharesToBuy'] = stonks_data['toBeInvested'] / stonks_data['Price']\n",
    "stonks_data['noOfSharesToBuy'] = stonks_data['noOfSharesToBuy'] - (stonks_data['noOfSharesToBuy'] % 1)\n",
    "stonks_data['Money Invested'] = stonks_data['noOfSharesToBuy'] * stonks_data['Price']\n",
    "print(stonks_data)"
   ],
   "metadata": {
    "collapsed": false
   }
  },
  {
   "cell_type": "markdown",
   "source": [],
   "metadata": {
    "collapsed": false
   }
  },
  {
   "cell_type": "code",
   "execution_count": 17,
   "outputs": [],
   "source": [
    "# stonks_data.to_csv('stonks.csv', index=False)"
   ],
   "metadata": {
    "collapsed": false
   }
  },
  {
   "cell_type": "code",
   "execution_count": 23,
   "outputs": [],
   "source": [
    "total_money_invested = stonks_data['Money Invested'].sum()"
   ],
   "metadata": {
    "collapsed": false
   }
  },
  {
   "cell_type": "code",
   "execution_count": 28,
   "outputs": [
    {
     "name": "stdout",
     "output_type": "stream",
     "text": [
      "The total amount of money invested is Rs.400837.25 and the amount of surplus cash is 49162.75\n"
     ]
    }
   ],
   "source": [
    "print(f'The total amount of money invested is Rs.{round(total_money_invested, 2)} and the amount of surplus cash is {round(portfolio_size - total_money_invested, 2)}' )\n",
    "# print(portfolio_size - total_money_invested)"
   ],
   "metadata": {
    "collapsed": false
   }
  },
  {
   "cell_type": "code",
   "execution_count": null,
   "outputs": [],
   "source": [],
   "metadata": {
    "collapsed": false
   }
  }
 ],
 "metadata": {
  "kernelspec": {
   "display_name": "Python 3",
   "language": "python",
   "name": "python3"
  },
  "language_info": {
   "codemirror_mode": {
    "name": "ipython",
    "version": 2
   },
   "file_extension": ".py",
   "mimetype": "text/x-python",
   "name": "python",
   "nbconvert_exporter": "python",
   "pygments_lexer": "ipython2",
   "version": "2.7.6"
  }
 },
 "nbformat": 4,
 "nbformat_minor": 0
}
