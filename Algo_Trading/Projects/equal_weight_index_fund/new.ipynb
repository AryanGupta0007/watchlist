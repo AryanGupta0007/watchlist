{
 "cells": [
  {
   "cell_type": "code",
   "execution_count": 48,
   "metadata": {
    "collapsed": true
   },
   "outputs": [],
   "source": [
    "import pandas as pd\n",
    "from tvDatafeed import Interval, TvDatafeed\n",
    "import time\n"
   ]
  },
  {
   "cell_type": "code",
   "execution_count": 49,
   "outputs": [
    {
     "name": "stderr",
     "output_type": "stream",
     "text": [
      "WARNING:tvDatafeed.main:you are using nologin method, data you access may be limited\n"
     ]
    },
    {
     "name": "stdout",
     "output_type": "stream",
     "text": [
      "[2560.3999, 1472.15, 1464.2, 874.34998, 3131.7, 1902.85, 317.60001, 1912.95, 2606.0, 744.15002, 533.29999, 7181.2998, 735.04999, 3446.55, 926.04999, 2622.0, 106.4, 9024.5, 871.84998, 1740.64, 1052.9, 466.89999, 226.10001, 6632.5, 410.45001, 160.7, 421.95001, 661.59998, 19732.949, 1685.0, 1111.4, 837.79999, 134.7, 575.59998, 3599.2, 1023.0, 4202.1001, 838.40002, 1296.55, 756.45001, 4277.1499, 3718.1499, 3411.6001, 230.3, 331.35001, 21586.15, 2876.6499, 1472.15]\n"
     ]
    }
   ],
   "source": [
    "stocks_data = pd.read_csv('stocks.csv')\n",
    "file_name = input('Enter a file name to save the data in: ')\n",
    "file_name += '.csv'\n",
    "tv = TvDatafeed()\n",
    "prices = []\n",
    "tickers = []\n",
    "symbolToFetchFor = stocks_data['Stock']\n",
    "get_date = input('Enter a date of a month ')\n",
    "get_month = input('Enter a  month ')\n",
    "get_year = input('Enter a year between 2019-23 ')\n",
    "\n",
    "for ticker in symbolToFetchFor:\n",
    "    time.sleep(1)\n",
    "    try:\n",
    "        # print(ticker)\n",
    "        df = tv.get_hist(symbol=ticker, exchange='NSE', interval=Interval.in_daily, n_bars=1000).reset_index()\n",
    "    except:\n",
    "        print(f'no data found for {ticker} ')\n",
    "    else:\n",
    "        # print(df)\n",
    "        get_data = df.loc[df['datetime'] == f\"{get_year}-{get_month}-{get_date} 09:15:00\"]\n",
    "        # prices.append()\n",
    "        # print(get_data)\n",
    "        ticker_price = get_data.iloc[0, 5]\n",
    "        prices.append(ticker_price)\n",
    "print(prices)"
   ],
   "metadata": {
    "collapsed": false
   }
  },
  {
   "cell_type": "code",
   "execution_count": 50,
   "outputs": [
    {
     "name": "stdout",
     "output_type": "stream",
     "text": [
      "         Stock  Weightage        Price\n",
      "0     RELIANCE     0.1286   2560.39990\n",
      "1     HDFCBANK     0.0810   1472.15000\n",
      "2         INFY     0.0766   1464.20000\n",
      "3    ICICIBANK     0.0690    874.34998\n",
      "4          TCS     0.0491   3131.70000\n",
      "5    KOTAKBANK     0.0351   1902.85000\n",
      "6          ITC     0.0303    317.60001\n",
      "7           LT     0.0274   1912.95000\n",
      "8   HINDUNILVR     0.0267   2606.00000\n",
      "9     AXISBANK     0.0257    744.15002\n",
      "10        SBIN     0.0254    533.29999\n",
      "11  BAJFINANCE     0.0237   7181.29980\n",
      "12  BHARTIARTL     0.0233    735.04999\n",
      "13  ASIANPAINT     0.0195   3446.55000\n",
      "14     HCLTECH     0.0153    926.04999\n",
      "15       TITAN     0.0137   2622.00000\n",
      "16   TATASTEEL     0.0137    106.40000\n",
      "17      MARUTI     0.0137   9024.50000\n",
      "18   SUNPHARMA     0.0134    871.84998\n",
      "19  BAJAJFINSV     0.0120   1740.64000\n",
      "20       TECHM     0.0105   1052.90000\n",
      "21  TATAMOTORS     0.0105    466.89999\n",
      "22   POWERGRID     0.0104    226.10001\n",
      "23  ULTRACEMCO     0.0102   6632.50000\n",
      "24       WIPRO     0.0101    410.45001\n",
      "25        NTPC     0.0099    160.70000\n",
      "26    HINDALCO     0.0094    421.95001\n",
      "27    JSWSTEEL     0.0094    661.59998\n",
      "28   NESTLEIND     0.0087  19732.94900\n",
      "29      GRASIM     0.0085   1685.00000\n",
      "30  INDUSINDBK     0.0085   1111.40000\n",
      "31  ADANIPORTS     0.0082    837.79999\n",
      "32        ONGC     0.0078    134.70000\n",
      "33    HDFCLIFE     0.0072    575.59998\n",
      "34    DIVISLAB     0.0077   3599.20000\n",
      "35       CIPLA     0.0068   1023.00000\n",
      "36     DRREDDY     0.0067   4202.10010\n",
      "37  TATACONSUM     0.0066    838.40002\n",
      "38     SBILIFE     0.0065   1296.55000\n",
      "39         UPL     0.0060    756.45001\n",
      "40  APOLLOHOSP     0.0061   4277.14990\n",
      "41   BRITANNIA     0.0052   3718.14990\n",
      "42   EICHERMOT     0.0049   3411.60010\n",
      "43   COALINDIA     0.0051    230.30000\n",
      "44        BPCL     0.0046    331.35001\n",
      "45    SHREECEM     0.0046  21586.15000\n",
      "46  HEROMOTOCO     0.0043   2876.64990\n",
      "47    HDFCBANK     0.0810   1472.15000\n"
     ]
    }
   ],
   "source": [
    "stocks_data['Price'] = prices\n",
    "print(stocks_data)"
   ],
   "metadata": {
    "collapsed": false
   }
  },
  {
   "cell_type": "code",
   "execution_count": 51,
   "outputs": [
    {
     "name": "stdout",
     "output_type": "stream",
     "text": [
      "         Stock  Weightage        Price  toBeInvested  noOfSharesToBuy   \n",
      "0     RELIANCE     0.1286   2560.39990       64300.0             25.0  \\\n",
      "1     HDFCBANK     0.0810   1472.15000       40500.0             27.0   \n",
      "2         INFY     0.0766   1464.20000       38300.0             26.0   \n",
      "3    ICICIBANK     0.0690    874.34998       34500.0             39.0   \n",
      "4          TCS     0.0491   3131.70000       24550.0              7.0   \n",
      "5    KOTAKBANK     0.0351   1902.85000       17550.0              9.0   \n",
      "6          ITC     0.0303    317.60001       15150.0             47.0   \n",
      "7           LT     0.0274   1912.95000       13700.0              7.0   \n",
      "8   HINDUNILVR     0.0267   2606.00000       13350.0              5.0   \n",
      "9     AXISBANK     0.0257    744.15002       12850.0             17.0   \n",
      "10        SBIN     0.0254    533.29999       12700.0             23.0   \n",
      "11  BAJFINANCE     0.0237   7181.29980       11850.0              1.0   \n",
      "12  BHARTIARTL     0.0233    735.04999       11650.0             15.0   \n",
      "13  ASIANPAINT     0.0195   3446.55000        9750.0              2.0   \n",
      "14     HCLTECH     0.0153    926.04999        7650.0              8.0   \n",
      "15       TITAN     0.0137   2622.00000        6850.0              2.0   \n",
      "16   TATASTEEL     0.0137    106.40000        6850.0             64.0   \n",
      "17      MARUTI     0.0137   9024.50000        6850.0              0.0   \n",
      "18   SUNPHARMA     0.0134    871.84998        6700.0              7.0   \n",
      "19  BAJAJFINSV     0.0120   1740.64000        6000.0              3.0   \n",
      "20       TECHM     0.0105   1052.90000        5250.0              4.0   \n",
      "21  TATAMOTORS     0.0105    466.89999        5250.0             11.0   \n",
      "22   POWERGRID     0.0104    226.10001        5200.0             22.0   \n",
      "23  ULTRACEMCO     0.0102   6632.50000        5100.0              0.0   \n",
      "24       WIPRO     0.0101    410.45001        5050.0             12.0   \n",
      "25        NTPC     0.0099    160.70000        4950.0             30.0   \n",
      "26    HINDALCO     0.0094    421.95001        4700.0             11.0   \n",
      "27    JSWSTEEL     0.0094    661.59998        4700.0              7.0   \n",
      "28   NESTLEIND     0.0087  19732.94900        4350.0              0.0   \n",
      "29      GRASIM     0.0085   1685.00000        4250.0              2.0   \n",
      "30  INDUSINDBK     0.0085   1111.40000        4250.0              3.0   \n",
      "31  ADANIPORTS     0.0082    837.79999        4100.0              4.0   \n",
      "32        ONGC     0.0078    134.70000        3900.0             28.0   \n",
      "33    HDFCLIFE     0.0072    575.59998        3600.0              6.0   \n",
      "34    DIVISLAB     0.0077   3599.20000        3850.0              1.0   \n",
      "35       CIPLA     0.0068   1023.00000        3400.0              3.0   \n",
      "36     DRREDDY     0.0067   4202.10010        3350.0              0.0   \n",
      "37  TATACONSUM     0.0066    838.40002        3300.0              3.0   \n",
      "38     SBILIFE     0.0065   1296.55000        3250.0              2.0   \n",
      "39         UPL     0.0060    756.45001        3000.0              3.0   \n",
      "40  APOLLOHOSP     0.0061   4277.14990        3050.0              0.0   \n",
      "41   BRITANNIA     0.0052   3718.14990        2600.0              0.0   \n",
      "42   EICHERMOT     0.0049   3411.60010        2450.0              0.0   \n",
      "43   COALINDIA     0.0051    230.30000        2550.0             11.0   \n",
      "44        BPCL     0.0046    331.35001        2300.0              6.0   \n",
      "45    SHREECEM     0.0046  21586.15000        2300.0              0.0   \n",
      "46  HEROMOTOCO     0.0043   2876.64990        2150.0              0.0   \n",
      "47    HDFCBANK     0.0810   1472.15000       40500.0             27.0   \n",
      "\n",
      "    Money Invested  \n",
      "0      64009.99750  \n",
      "1      39748.05000  \n",
      "2      38069.20000  \n",
      "3      34099.64922  \n",
      "4      21921.90000  \n",
      "5      17125.65000  \n",
      "6      14927.20047  \n",
      "7      13390.65000  \n",
      "8      13030.00000  \n",
      "9      12650.55034  \n",
      "10     12265.89977  \n",
      "11      7181.29980  \n",
      "12     11025.74985  \n",
      "13      6893.10000  \n",
      "14      7408.39992  \n",
      "15      5244.00000  \n",
      "16      6809.60000  \n",
      "17         0.00000  \n",
      "18      6102.94986  \n",
      "19      5221.92000  \n",
      "20      4211.60000  \n",
      "21      5135.89989  \n",
      "22      4974.20022  \n",
      "23         0.00000  \n",
      "24      4925.40012  \n",
      "25      4821.00000  \n",
      "26      4641.45011  \n",
      "27      4631.19986  \n",
      "28         0.00000  \n",
      "29      3370.00000  \n",
      "30      3334.20000  \n",
      "31      3351.19996  \n",
      "32      3771.60000  \n",
      "33      3453.59988  \n",
      "34      3599.20000  \n",
      "35      3069.00000  \n",
      "36         0.00000  \n",
      "37      2515.20006  \n",
      "38      2593.10000  \n",
      "39      2269.35003  \n",
      "40         0.00000  \n",
      "41         0.00000  \n",
      "42         0.00000  \n",
      "43      2533.30000  \n",
      "44      1988.10006  \n",
      "45         0.00000  \n",
      "46         0.00000  \n",
      "47     39748.05000  \n"
     ]
    }
   ],
   "source": [
    "# stock_data = stonks_data\n",
    "# data = stock_data\n",
    "portfolio_size = 500000\n",
    "stocks_data['toBeInvested'] = stocks_data['Weightage'] * portfolio_size\n",
    "stocks_data['noOfSharesToBuy'] = stocks_data['toBeInvested'] / stocks_data['Price']\n",
    "stocks_data['noOfSharesToBuy'] = stocks_data['noOfSharesToBuy'] - (stocks_data['noOfSharesToBuy'] % 1)\n",
    "stocks_data['Money Invested'] = stocks_data['noOfSharesToBuy'] * stocks_data['Price']\n",
    "print(stocks_data)"
   ],
   "metadata": {
    "collapsed": false
   }
  },
  {
   "cell_type": "code",
   "execution_count": 52,
   "outputs": [
    {
     "name": "stdout",
     "output_type": "stream",
     "text": [
      "The total amount of money invested is Rs.446062.42 and the amount of surplus cash is 53937.58.\n"
     ]
    }
   ],
   "source": [
    "total_money_invested = stocks_data['Money Invested'].sum()\n",
    "print(f'The total amount of money invested is Rs.{round(total_money_invested, 2)} and the amount of surplus cash is {round(portfolio_size - total_money_invested, 2)}.')\n",
    "\n",
    "stocks_data.to_csv(file_name)"
   ],
   "metadata": {
    "collapsed": false
   }
  },
  {
   "cell_type": "code",
   "execution_count": 52,
   "outputs": [],
   "source": [],
   "metadata": {
    "collapsed": false
   }
  }
 ],
 "metadata": {
  "kernelspec": {
   "display_name": "Python 3",
   "language": "python",
   "name": "python3"
  },
  "language_info": {
   "codemirror_mode": {
    "name": "ipython",
    "version": 2
   },
   "file_extension": ".py",
   "mimetype": "text/x-python",
   "name": "python",
   "nbconvert_exporter": "python",
   "pygments_lexer": "ipython2",
   "version": "2.7.6"
  }
 },
 "nbformat": 4,
 "nbformat_minor": 0
}
