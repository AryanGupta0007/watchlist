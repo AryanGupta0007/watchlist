{
 "cells": [
  {
   "cell_type": "code",
   "execution_count": 12,
   "outputs": [],
   "source": [
    "import pandas as pd\n",
    "import numpy as np\n",
    "from tvDatafeed import Interval, TvDatafeed\n",
    "import time\n",
    "stonks_data = pd.read_csv('stonks.csv')"
   ],
   "metadata": {
    "collapsed": false
   }
  },
  {
   "cell_type": "code",
   "execution_count": null,
   "outputs": [
    {
     "name": "stderr",
     "output_type": "stream",
     "text": [
      "you are using nologin method, data you access may be limited\n"
     ]
    },
    {
     "name": "stdout",
     "output_type": "stream",
     "text": [
      "The default year for assessment is 2022\n"
     ]
    }
   ],
   "source": [
    "\n",
    "tickers = stonks_data['Stock']\n",
    "# print(tickers)\n",
    "my_columns = ['Ticker', 'Price', 'Datetime']\n",
    "all_data = {}\n",
    "df2 = pd.DataFrame(all_data, columns=my_columns)\n",
    "\n",
    "tv = TvDatafeed()\n",
    "dates = np.arange(1, 29)\n",
    "portfolio_size = float(input('Enter the amount of available resources to invest: '))\n",
    "print('The default year for assessment is 2022')\n",
    "month = int(input('Enter the month ex. 7 for July. : '))\n",
    "for ticker in tickers:\n",
    "    try:\n",
    "        time.sleep(1)\n",
    "        df = tv.get_hist(symbol=ticker, exchange='NSE', interval=Interval.in_daily, n_bars=1000).reset_index()\n",
    "    except:\n",
    "        continue\n",
    "    else:\n",
    "        for date in dates:\n",
    "            current_date = f'{date}-{month}-2022'\n",
    "            datetime = f'{date}-{month}-2022 09:15:00'\n",
    "            try:\n",
    "                get_data = df.loc[df['datetime'] == f\"{current_date} 09:15:00\"]\n",
    "                ticker_price = get_data.iloc[0, 5]\n",
    "            except:\n",
    "                pass\n",
    "            else:\n",
    "                dict2 = {\n",
    "                    'Ticker': ticker,\n",
    "                    'Price': ticker_price,\n",
    "                    'Datetime': datetime\n",
    "                }\n",
    "                final_df = pd.DataFrame(dict2, index=[0])\n",
    "                # print(final_df)\n",
    "                # print(final_df)\n",
    "                df2 = pd.concat([df2, final_df], ignore_index=True)\n",
    "                # print(df2)\n",
    "# print(df2)"
   ],
   "metadata": {
    "collapsed": false,
    "pycharm": {
     "is_executing": true
    }
   }
  },
  {
   "cell_type": "code",
   "execution_count": null,
   "outputs": [],
   "source": [
    "# portfolio_size = 4524234242\n",
    "\n",
    "\n",
    "\n",
    "dataframes = {}\n",
    "\n",
    "# print(dates)\n",
    "for date in dates:\n",
    "    current_date = f'{date}-{month}-22'\n",
    "    df3 = df2.loc[df2['Datetime'] == f'{date}-{month}-2022 09:15:00'].reset_index(drop=True)\n",
    "\n",
    "\n",
    "    if not df3.empty:\n",
    "        # print(df3)\n",
    "        df3['Weightage'] = stonks_data['Weightage']\n",
    "        # print(df3['Weightage'])\n",
    "        df3['toBeInvested'] = df3['Weightage'] * portfolio_size\n",
    "        # total_weightage = df3['Weightage'].sum()\n",
    "        # print(total_weightage)\n",
    "        df3['noOfSharesToBuy'] = df3['toBeInvested'] / df3['Price']\n",
    "        df3['noOfSharesToBuy'] = df3['noOfSharesToBuy'] - (df3['noOfSharesToBuy'] % 1)\n",
    "        df3['Money Invested'] = df3['noOfSharesToBuy'] * df3['Price']\n",
    "        # print(df3)\n",
    "        total_money_invested = df3['Money Invested'].sum()\n",
    "        # df3 = df3.drop('index')\n",
    "\n",
    "        dataframes[date] = df3\n",
    "        print(f'On {current_date} The total amount of money invested is Rs.{round(total_money_invested, 2)} and the amount of surplus cash is Rs.{round(float(portfolio_size) - total_money_invested, 2)}.')\n",
    "\n",
    "\n",
    "\n",
    "    time.sleep(10)"
   ],
   "metadata": {
    "collapsed": false,
    "pycharm": {
     "is_executing": true
    }
   }
  },
  {
   "cell_type": "code",
   "execution_count": null,
   "outputs": [],
   "source": [
    "print(dataframes)"
   ],
   "metadata": {
    "collapsed": false,
    "pycharm": {
     "is_executing": true
    }
   }
  },
  {
   "cell_type": "code",
   "execution_count": null,
   "outputs": [],
   "source": [],
   "metadata": {
    "collapsed": false,
    "pycharm": {
     "is_executing": true
    }
   }
  },
  {
   "cell_type": "code",
   "execution_count": null,
   "outputs": [],
   "source": [],
   "metadata": {
    "collapsed": false,
    "pycharm": {
     "is_executing": true
    }
   }
  }
 ],
 "metadata": {
  "kernelspec": {
   "display_name": "Python 3",
   "language": "python",
   "name": "python3"
  },
  "language_info": {
   "codemirror_mode": {
    "name": "ipython",
    "version": 2
   },
   "file_extension": ".py",
   "mimetype": "text/x-python",
   "name": "python",
   "nbconvert_exporter": "python",
   "pygments_lexer": "ipython2",
   "version": "2.7.6"
  }
 },
 "nbformat": 4,
 "nbformat_minor": 0
}
