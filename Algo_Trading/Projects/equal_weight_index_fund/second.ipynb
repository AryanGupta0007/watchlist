{
 "cells": [
  {
   "cell_type": "code",
   "execution_count": 26,
   "outputs": [],
   "source": [
    "import pandas as pd\n",
    "from tvDatafeed import Interval, TvDatafeed\n",
    "import time\n",
    "import datetime"
   ],
   "metadata": {
    "collapsed": false
   }
  },
  {
   "cell_type": "code",
   "execution_count": 27,
   "outputs": [],
   "source": [
    "stonks2 = pd.read_csv('sorted_stonks.csv')"
   ],
   "metadata": {
    "collapsed": false
   }
  },
  {
   "cell_type": "code",
   "execution_count": 28,
   "outputs": [
    {
     "name": "stderr",
     "output_type": "stream",
     "text": [
      "WARNING:tvDatafeed.main:you are using nologin method, data you access may be limited\n"
     ]
    }
   ],
   "source": [
    "get_month = int(input('Enter the month of the year ex. use 7 for July: '))\n",
    "portfolio_size = float(input('Enter the amount you want to invest:  '))\n",
    "tickers = stonks2['Stock']\n",
    "# print(tickers)\n",
    "\n",
    "tv = TvDatafeed()\n",
    "# print(df)\n",
    "def getStats(symbol, month, year, x):\n",
    "\n",
    "\n",
    "    try:\n",
    "        df = tv.get_hist(symbol=symbol, exchange='NSE', interval=Interval.in_daily, n_bars=1000).reset_index()\n",
    "    except:\n",
    "        pass\n",
    "    else:\n",
    "        df['datetime'] = pd.to_datetime(df['datetime'])\n",
    "        user_date = f\"01-{month}-{year} 09:15:00\"\n",
    "        user_date_obj = datetime.datetime.strptime(user_date, \"%d-%m-%Y %H:%M:%S\")\n",
    "        last_date = user_date_obj  + datetime.timedelta(days=27)\n",
    "        final_df = df.loc[(df['datetime'] >= user_date_obj) & (df['datetime'] <= last_date)].reset_index(drop=True)\n",
    "        weightage = stonks2.loc[x, 'Weightage']\n",
    "        final_df['toBeInvested'] = weightage * portfolio_size\n",
    "        final_df['noOfSharesToBuy'] = final_df['toBeInvested'] / final_df['close']\n",
    "        final_df['noOfSharesToBuy'] = final_df['noOfSharesToBuy'] - (final_df['noOfSharesToBuy'] % 1)\n",
    "\n",
    "        share_count = final_df['noOfSharesToBuy']\n",
    "        Dict = {\n",
    "            'Ticker': ticker,\n",
    "            'Weightage': weightage\n",
    "        }\n",
    "        df = pd.DataFrame(Dict, columns=['Ticker', 'Weightage'], index=[0])\n",
    "        dates_df = pd.DataFrame([share_count.tolist()], columns=final_df['datetime'].dt.date)\n",
    "\n",
    "        output = pd.concat([df, dates_df], axis=1)\n",
    "        return output\n",
    "x = 0\n",
    "for ticker in tickers:\n",
    "\n",
    "    # print(ticker)\n",
    "    df = getStats(ticker, month=get_month, year=2022, x=x)\n",
    "    # print(df.columns)\n",
    "    if x == 0:\n",
    "        df2= pd.DataFrame(columns=df.columns)\n",
    "\n",
    "    # print(df)\n",
    "    time.sleep(1)\n",
    "    df2 = pd.concat([df2, df], ignore_index=True)\n",
    "    # print(df2)\n",
    "    x += 1\n",
    "# print(df2)"
   ],
   "metadata": {
    "collapsed": false
   }
  },
  {
   "cell_type": "code",
   "execution_count": 29,
   "outputs": [
    {
     "data": {
      "text/plain": "Empty DataFrame\nColumns: [Ticker, Weightage, 2022-10-03, 2022-10-04, 2022-10-06, 2022-10-07, 2022-10-10, 2022-10-11, 2022-10-12, 2022-10-13, 2022-10-14, 2022-10-17, 2022-10-18, 2022-10-19, 2022-10-20, 2022-10-21, 2022-10-24, 2022-10-25, 2022-10-27, 2022-10-28]\nIndex: []",
      "text/html": "<div>\n<style scoped>\n    .dataframe tbody tr th:only-of-type {\n        vertical-align: middle;\n    }\n\n    .dataframe tbody tr th {\n        vertical-align: top;\n    }\n\n    .dataframe thead th {\n        text-align: right;\n    }\n</style>\n<table border=\"1\" class=\"dataframe\">\n  <thead>\n    <tr style=\"text-align: right;\">\n      <th></th>\n      <th>Ticker</th>\n      <th>Weightage</th>\n      <th>2022-10-03</th>\n      <th>2022-10-04</th>\n      <th>2022-10-06</th>\n      <th>2022-10-07</th>\n      <th>2022-10-10</th>\n      <th>2022-10-11</th>\n      <th>2022-10-12</th>\n      <th>2022-10-13</th>\n      <th>2022-10-14</th>\n      <th>2022-10-17</th>\n      <th>2022-10-18</th>\n      <th>2022-10-19</th>\n      <th>2022-10-20</th>\n      <th>2022-10-21</th>\n      <th>2022-10-24</th>\n      <th>2022-10-25</th>\n      <th>2022-10-27</th>\n      <th>2022-10-28</th>\n    </tr>\n  </thead>\n  <tbody>\n  </tbody>\n</table>\n</div>"
     },
     "execution_count": 29,
     "metadata": {},
     "output_type": "execute_result"
    }
   ],
   "source": [
    "df4 = pd.DataFrame(columns=df2.columns)\n",
    "df4"
   ],
   "metadata": {
    "collapsed": false
   }
  },
  {
   "cell_type": "code",
   "execution_count": 41,
   "outputs": [],
   "source": [
    "\n",
    "\n",
    "df4 = pd.DataFrame(df2.sum())"
   ],
   "metadata": {
    "collapsed": false
   }
  },
  {
   "cell_type": "code",
   "execution_count": 42,
   "outputs": [],
   "source": [
    "df4 = df4.transpose()"
   ],
   "metadata": {
    "collapsed": false
   }
  },
  {
   "cell_type": "code",
   "execution_count": 43,
   "outputs": [],
   "source": [
    "df4.drop('Ticker', inplace=True, axis=1)\n",
    "df4.drop('Weightage', inplace=True, axis=1)"
   ],
   "metadata": {
    "collapsed": false
   }
  },
  {
   "cell_type": "code",
   "execution_count": 44,
   "outputs": [],
   "source": [
    "df = pd.concat([df2, df4], ignore_index=True)"
   ],
   "metadata": {
    "collapsed": false
   }
  },
  {
   "cell_type": "code",
   "execution_count": 45,
   "outputs": [
    {
     "data": {
      "text/plain": "        Ticker  Weightage 2022-10-03 2022-10-04 2022-10-06 2022-10-07   \n0   ADANIPORTS     0.0082      104.0       99.0       99.0      100.0  \\\n1   APOLLOHOSP     0.0061       13.0       13.0       13.0       13.0   \n2   ASIANPAINT     0.0195       59.0       58.0       58.0       58.0   \n3     AXISBANK     0.0257      355.0      345.0      340.0      340.0   \n4   BAJAJFINSV     0.0120       72.0       70.0       70.0       70.0   \n5   BAJFINANCE     0.0237       33.0       31.0       32.0       32.0   \n6   BHARTIARTL     0.0233      290.0      288.0      295.0      293.0   \n7         BPCL     0.0046      148.0      147.0      147.0      149.0   \n8    BRITANNIA     0.0052       13.0       13.0       13.0       13.0   \n9        CIPLA     0.0068       60.0       59.0       59.0       60.0   \n10   COALINDIA     0.0051      237.0      228.0      218.0      222.0   \n11    DIVISLAB     0.0077       20.0       20.0       20.0       20.0   \n12     DRREDDY     0.0067       15.0       15.0       15.0       15.0   \n13   EICHERMOT     0.0049       14.0       13.0       13.0       14.0   \n14      GRASIM     0.0085       51.0       50.0       50.0       50.0   \n15     HCLTECH     0.0153      164.0      161.0      158.0      159.0   \n16    HDFCBANK     0.0810      573.0      557.0      563.0      566.0   \n17    HDFCLIFE     0.0072      138.0      135.0      135.0      136.0   \n18  HEROMOTOCO     0.0043       17.0       16.0       16.0       16.0   \n19    HINDALCO     0.0094      246.0      238.0      227.0      228.0   \n20  HINDUNILVR     0.0267      101.0      100.0      102.0      102.0   \n21   ICICIBANK     0.0690      813.0      795.0      779.0      781.0   \n22  INDUSINDBK     0.0085       73.0       69.0       70.0       70.0   \n23        INFY     0.0766      549.0      535.0      526.0      527.0   \n24         ITC     0.0303      934.0      910.0      900.0      906.0   \n25    JSWSTEEL     0.0094      150.0      146.0      139.0      141.0   \n26   KOTAKBANK     0.0351      196.0      192.0      192.0      192.0   \n27          LT     0.0274      150.0      146.0      143.0      142.0   \n28      MARUTI     0.0137       16.0       15.0       15.0       15.0   \n29   NESTLEIND     0.0087        4.0        4.0        4.0        4.0   \n30        NTPC     0.0099      617.0      609.0      607.0      602.0   \n31        ONGC     0.0078      589.0      582.0      588.0      581.0   \n32   POWERGRID     0.0104      493.0      498.0      504.0      496.0   \n33    RELIANCE     0.1286      542.0      532.0      530.0      528.0   \n34     SBILIFE     0.0065       52.0       51.0       52.0       52.0   \n35        SBIN     0.0254      488.0      476.0      472.0      479.0   \n36    SHREECEM     0.0046        2.0        2.0        2.0        2.0   \n37   SUNPHARMA     0.0134      141.0      141.0      140.0      140.0   \n38  TATACONSUM     0.0066       84.0       84.0       83.0       84.0   \n39  TATAMOTORS     0.0105      264.0      257.0      253.0      254.0   \n40   TATASTEEL     0.0137     1392.0     1354.0     1323.0     1326.0   \n41         TCS     0.0491      164.0      158.0      158.0      160.0   \n42       TECHM     0.0105      104.0      102.0      101.0      102.0   \n43       TITAN     0.0137       53.0       52.0       52.0       50.0   \n44  ULTRACEMCO     0.0102       16.0       16.0       16.0       16.0   \n45         UPL     0.0060       90.0       86.0       87.0       86.0   \n46       WIPRO     0.0101      256.0      249.0      246.0      247.0   \n47         NaN        NaN    10955.0    10717.0    10625.0    10639.0   \n\n   2022-10-10 2022-10-11 2022-10-12 2022-10-13 2022-10-14 2022-10-17   \n0       101.0      102.0      102.0      104.0      105.0      104.0  \\\n1        14.0       14.0       14.0       14.0       14.0       14.0   \n2        59.0       59.0       60.0       60.0       61.0       60.0   \n3       330.0      327.0      317.0      320.0      321.0      315.0   \n4        71.0       71.0       70.0       71.0       71.0       69.0   \n5        32.0       32.0       32.0       33.0       32.0       32.0   \n6       294.0      298.0      300.0      303.0      304.0      304.0   \n7       150.0      153.0      152.0      153.0      154.0      155.0   \n8        13.0       13.0       13.0       13.0       13.0       13.0   \n9        60.0       61.0       61.0       61.0       61.0       61.0   \n10      221.0      226.0      219.0      217.0      215.0      214.0   \n11       20.0       21.0       21.0       21.0       21.0       21.0   \n12       15.0       15.0       15.0       15.0       15.0       15.0   \n13       13.0       14.0       14.0       14.0       14.0       13.0   \n14       50.0       51.0       50.0       50.0       50.0       50.0   \n15      158.0      163.0      160.0      155.0      152.0      153.0   \n16      572.0      578.0      574.0      581.0      562.0      559.0   \n17      135.0      137.0      136.0      138.0      137.0      137.0   \n18       16.0       16.0       16.0       16.0       16.0       16.0   \n19      230.0      237.0      234.0      234.0      236.0      242.0   \n20      102.0      104.0      103.0      104.0      103.0      103.0   \n21      782.0      792.0      794.0      808.0      792.0      779.0   \n22       70.0       72.0       71.0       71.0       71.0       70.0   \n23      523.0      537.0      536.0      539.0      519.0      514.0   \n24      924.0      928.0      917.0      921.0      912.0      911.0   \n25      141.0      146.0      144.0      144.0      146.0      148.0   \n26      194.0      196.0      193.0      194.0      191.0      188.0   \n27      143.0      145.0      143.0      146.0      143.0      145.0   \n28       15.0       15.0       15.0       15.0       15.0       15.0   \n29        4.0        4.0        4.0        4.0        4.0        4.0   \n30      603.0      614.0      600.0      600.0      599.0      587.0   \n31      585.0      594.0      593.0      600.0      611.0      610.0   \n32      497.0      499.0      482.0      486.0      489.0      490.0   \n33      534.0      545.0      541.0      539.0      542.0      533.0   \n34       52.0       53.0       53.0       54.0       55.0       54.0   \n35      478.0      481.0      475.0      487.0      481.0      467.0   \n36        2.0        2.0        2.0        2.0        2.0        2.0   \n37      141.0      141.0      140.0      138.0      137.0      136.0   \n38       87.0       88.0       87.0       87.0       86.0       86.0   \n39      265.0      266.0      264.0      263.0      264.0      265.0   \n40     1327.0     1365.0     1362.0     1368.0     1368.0     1376.0   \n41      157.0      159.0      158.0      158.0      158.0      157.0   \n42      102.0      104.0      103.0      103.0      102.0      102.0   \n43       51.0       52.0       52.0       52.0       52.0       52.0   \n44       16.0       16.0       16.0       16.0       16.0       16.0   \n45       87.0       90.0       89.0       90.0       88.0       88.0   \n46      245.0      249.0      247.0      266.0      267.0      269.0   \n47    10681.0    10845.0    10744.0    10828.0    10767.0    10714.0   \n\n   2022-10-18 2022-10-19 2022-10-20 2022-10-21 2022-10-24 2022-10-25   \n0       101.0      101.0       99.0      102.0      101.0      102.0  \\\n1        13.0       13.0       14.0       13.0       13.0       13.0   \n2        60.0       60.0       62.0       63.0       62.0       63.0   \n3       314.0      309.0      311.0      285.0      282.0      284.0   \n4        69.0       70.0       69.0       71.0       70.0       72.0   \n5        32.0       32.0       31.0       32.0       32.0       33.0   \n6       297.0      297.0      293.0      292.0      290.0      290.0   \n7       155.0      157.0      154.0      154.0      152.0      152.0   \n8        13.0       13.0       13.0       13.0       13.0       14.0   \n9        60.0       60.0       59.0       59.0       59.0       58.0   \n10      211.0      214.0      211.0      213.0      212.0      212.0   \n11       21.0       21.0       21.0       21.0       21.0       21.0   \n12       15.0       15.0       15.0       15.0       15.0       15.0   \n13       13.0       13.0       13.0       13.0       13.0       13.0   \n14       50.0       50.0       50.0       50.0       50.0       49.0   \n15      151.0      153.0      150.0      148.0      148.0      149.0   \n16      561.0      555.0      559.0      563.0      554.0      558.0   \n17      135.0      135.0      134.0      132.0      132.0      134.0   \n18       16.0       16.0       16.0       16.0       16.0       16.0   \n19      238.0      240.0      237.0      238.0      237.0      235.0   \n20      102.0      103.0      102.0      100.0      103.0      106.0   \n21      769.0      773.0      776.0      760.0      744.0      745.0   \n22       69.0       69.0       73.0       74.0       74.0       74.0   \n23      509.0      515.0      510.0      510.0      504.0      501.0   \n24      890.0      874.0      866.0      876.0      871.0      874.0   \n25      147.0      150.0      149.0      151.0      149.0      145.0   \n26      188.0      187.0      188.0      184.0      185.0      190.0   \n27      142.0      143.0      143.0      145.0      143.0      140.0   \n28       15.0       15.0       15.0       15.0       15.0       15.0   \n29        4.0        4.0        4.0        4.0        4.0        4.0   \n30      592.0      603.0      592.0      599.0      592.0      584.0   \n31      606.0      610.0      601.0      592.0      587.0      596.0   \n32      489.0      486.0      478.0      478.0      475.0      475.0   \n33      524.0      515.0      514.0      520.0      518.0      526.0   \n34       53.0       52.0       53.0       52.0       51.0       51.0   \n35      451.0      458.0      457.0      452.0      445.0      439.0   \n36        2.0        2.0        2.0        2.0        2.0        2.0   \n37      136.0      137.0      136.0      137.0      135.0      135.0   \n38       85.0       86.0       85.0       86.0       85.0       86.0   \n39      259.0      263.0      263.0      263.0      261.0      259.0   \n40     1361.0     1369.0     1357.0     1367.0     1353.0     1353.0   \n41      156.0      157.0      155.0      156.0      155.0      155.0   \n42      103.0      103.0      100.0      100.0      100.0       96.0   \n43       51.0       51.0       52.0       51.0       51.0       51.0   \n44       16.0       15.0       16.0       16.0       15.0       15.0   \n45       87.0       88.0       84.0       85.0       84.0       86.0   \n46      266.0      267.0      264.0      264.0      262.0      262.0   \n47    10597.0    10619.0    10546.0    10532.0    10435.0    10448.0   \n\n   2022-10-27 2022-10-28  \n0        99.0       99.0  \n1        13.0       13.0  \n2        64.0       63.0  \n3       280.0      284.0  \n4        73.0       72.0  \n5        33.0       33.0  \n6       285.0      285.0  \n7       150.0      151.0  \n8        13.0       13.0  \n9        58.0       58.0  \n10      211.0      208.0  \n11       21.0       21.0  \n12       14.0       15.0  \n13       13.0       13.0  \n14       49.0       50.0  \n15      148.0      148.0  \n16      556.0      555.0  \n17      135.0      135.0  \n18       16.0       16.0  \n19      227.0      232.0  \n20      105.0      105.0  \n21      746.0      760.0  \n22       74.0       74.0  \n23      502.0      506.0  \n24      876.0      876.0  \n25      138.0      140.0  \n26      188.0      186.0  \n27      139.0      138.0  \n28       15.0       14.0  \n29        4.0        4.0  \n30      580.0      568.0  \n31      591.0      583.0  \n32      464.0      458.0  \n33      524.0      509.0  \n34       51.0       51.0  \n35      438.0      445.0  \n36        2.0        2.0  \n37      132.0      135.0  \n38       85.0       86.0  \n39      257.0      256.0  \n40     1314.0     1348.0  \n41      155.0      155.0  \n42       97.0      100.0  \n43       50.0       50.0  \n44       15.0       15.0  \n45       84.0       84.0  \n46      263.0      263.0  \n47    10347.0    10375.0  ",
      "text/html": "<div>\n<style scoped>\n    .dataframe tbody tr th:only-of-type {\n        vertical-align: middle;\n    }\n\n    .dataframe tbody tr th {\n        vertical-align: top;\n    }\n\n    .dataframe thead th {\n        text-align: right;\n    }\n</style>\n<table border=\"1\" class=\"dataframe\">\n  <thead>\n    <tr style=\"text-align: right;\">\n      <th></th>\n      <th>Ticker</th>\n      <th>Weightage</th>\n      <th>2022-10-03</th>\n      <th>2022-10-04</th>\n      <th>2022-10-06</th>\n      <th>2022-10-07</th>\n      <th>2022-10-10</th>\n      <th>2022-10-11</th>\n      <th>2022-10-12</th>\n      <th>2022-10-13</th>\n      <th>2022-10-14</th>\n      <th>2022-10-17</th>\n      <th>2022-10-18</th>\n      <th>2022-10-19</th>\n      <th>2022-10-20</th>\n      <th>2022-10-21</th>\n      <th>2022-10-24</th>\n      <th>2022-10-25</th>\n      <th>2022-10-27</th>\n      <th>2022-10-28</th>\n    </tr>\n  </thead>\n  <tbody>\n    <tr>\n      <th>0</th>\n      <td>ADANIPORTS</td>\n      <td>0.0082</td>\n      <td>104.0</td>\n      <td>99.0</td>\n      <td>99.0</td>\n      <td>100.0</td>\n      <td>101.0</td>\n      <td>102.0</td>\n      <td>102.0</td>\n      <td>104.0</td>\n      <td>105.0</td>\n      <td>104.0</td>\n      <td>101.0</td>\n      <td>101.0</td>\n      <td>99.0</td>\n      <td>102.0</td>\n      <td>101.0</td>\n      <td>102.0</td>\n      <td>99.0</td>\n      <td>99.0</td>\n    </tr>\n    <tr>\n      <th>1</th>\n      <td>APOLLOHOSP</td>\n      <td>0.0061</td>\n      <td>13.0</td>\n      <td>13.0</td>\n      <td>13.0</td>\n      <td>13.0</td>\n      <td>14.0</td>\n      <td>14.0</td>\n      <td>14.0</td>\n      <td>14.0</td>\n      <td>14.0</td>\n      <td>14.0</td>\n      <td>13.0</td>\n      <td>13.0</td>\n      <td>14.0</td>\n      <td>13.0</td>\n      <td>13.0</td>\n      <td>13.0</td>\n      <td>13.0</td>\n      <td>13.0</td>\n    </tr>\n    <tr>\n      <th>2</th>\n      <td>ASIANPAINT</td>\n      <td>0.0195</td>\n      <td>59.0</td>\n      <td>58.0</td>\n      <td>58.0</td>\n      <td>58.0</td>\n      <td>59.0</td>\n      <td>59.0</td>\n      <td>60.0</td>\n      <td>60.0</td>\n      <td>61.0</td>\n      <td>60.0</td>\n      <td>60.0</td>\n      <td>60.0</td>\n      <td>62.0</td>\n      <td>63.0</td>\n      <td>62.0</td>\n      <td>63.0</td>\n      <td>64.0</td>\n      <td>63.0</td>\n    </tr>\n    <tr>\n      <th>3</th>\n      <td>AXISBANK</td>\n      <td>0.0257</td>\n      <td>355.0</td>\n      <td>345.0</td>\n      <td>340.0</td>\n      <td>340.0</td>\n      <td>330.0</td>\n      <td>327.0</td>\n      <td>317.0</td>\n      <td>320.0</td>\n      <td>321.0</td>\n      <td>315.0</td>\n      <td>314.0</td>\n      <td>309.0</td>\n      <td>311.0</td>\n      <td>285.0</td>\n      <td>282.0</td>\n      <td>284.0</td>\n      <td>280.0</td>\n      <td>284.0</td>\n    </tr>\n    <tr>\n      <th>4</th>\n      <td>BAJAJFINSV</td>\n      <td>0.0120</td>\n      <td>72.0</td>\n      <td>70.0</td>\n      <td>70.0</td>\n      <td>70.0</td>\n      <td>71.0</td>\n      <td>71.0</td>\n      <td>70.0</td>\n      <td>71.0</td>\n      <td>71.0</td>\n      <td>69.0</td>\n      <td>69.0</td>\n      <td>70.0</td>\n      <td>69.0</td>\n      <td>71.0</td>\n      <td>70.0</td>\n      <td>72.0</td>\n      <td>73.0</td>\n      <td>72.0</td>\n    </tr>\n    <tr>\n      <th>5</th>\n      <td>BAJFINANCE</td>\n      <td>0.0237</td>\n      <td>33.0</td>\n      <td>31.0</td>\n      <td>32.0</td>\n      <td>32.0</td>\n      <td>32.0</td>\n      <td>32.0</td>\n      <td>32.0</td>\n      <td>33.0</td>\n      <td>32.0</td>\n      <td>32.0</td>\n      <td>32.0</td>\n      <td>32.0</td>\n      <td>31.0</td>\n      <td>32.0</td>\n      <td>32.0</td>\n      <td>33.0</td>\n      <td>33.0</td>\n      <td>33.0</td>\n    </tr>\n    <tr>\n      <th>6</th>\n      <td>BHARTIARTL</td>\n      <td>0.0233</td>\n      <td>290.0</td>\n      <td>288.0</td>\n      <td>295.0</td>\n      <td>293.0</td>\n      <td>294.0</td>\n      <td>298.0</td>\n      <td>300.0</td>\n      <td>303.0</td>\n      <td>304.0</td>\n      <td>304.0</td>\n      <td>297.0</td>\n      <td>297.0</td>\n      <td>293.0</td>\n      <td>292.0</td>\n      <td>290.0</td>\n      <td>290.0</td>\n      <td>285.0</td>\n      <td>285.0</td>\n    </tr>\n    <tr>\n      <th>7</th>\n      <td>BPCL</td>\n      <td>0.0046</td>\n      <td>148.0</td>\n      <td>147.0</td>\n      <td>147.0</td>\n      <td>149.0</td>\n      <td>150.0</td>\n      <td>153.0</td>\n      <td>152.0</td>\n      <td>153.0</td>\n      <td>154.0</td>\n      <td>155.0</td>\n      <td>155.0</td>\n      <td>157.0</td>\n      <td>154.0</td>\n      <td>154.0</td>\n      <td>152.0</td>\n      <td>152.0</td>\n      <td>150.0</td>\n      <td>151.0</td>\n    </tr>\n    <tr>\n      <th>8</th>\n      <td>BRITANNIA</td>\n      <td>0.0052</td>\n      <td>13.0</td>\n      <td>13.0</td>\n      <td>13.0</td>\n      <td>13.0</td>\n      <td>13.0</td>\n      <td>13.0</td>\n      <td>13.0</td>\n      <td>13.0</td>\n      <td>13.0</td>\n      <td>13.0</td>\n      <td>13.0</td>\n      <td>13.0</td>\n      <td>13.0</td>\n      <td>13.0</td>\n      <td>13.0</td>\n      <td>14.0</td>\n      <td>13.0</td>\n      <td>13.0</td>\n    </tr>\n    <tr>\n      <th>9</th>\n      <td>CIPLA</td>\n      <td>0.0068</td>\n      <td>60.0</td>\n      <td>59.0</td>\n      <td>59.0</td>\n      <td>60.0</td>\n      <td>60.0</td>\n      <td>61.0</td>\n      <td>61.0</td>\n      <td>61.0</td>\n      <td>61.0</td>\n      <td>61.0</td>\n      <td>60.0</td>\n      <td>60.0</td>\n      <td>59.0</td>\n      <td>59.0</td>\n      <td>59.0</td>\n      <td>58.0</td>\n      <td>58.0</td>\n      <td>58.0</td>\n    </tr>\n    <tr>\n      <th>10</th>\n      <td>COALINDIA</td>\n      <td>0.0051</td>\n      <td>237.0</td>\n      <td>228.0</td>\n      <td>218.0</td>\n      <td>222.0</td>\n      <td>221.0</td>\n      <td>226.0</td>\n      <td>219.0</td>\n      <td>217.0</td>\n      <td>215.0</td>\n      <td>214.0</td>\n      <td>211.0</td>\n      <td>214.0</td>\n      <td>211.0</td>\n      <td>213.0</td>\n      <td>212.0</td>\n      <td>212.0</td>\n      <td>211.0</td>\n      <td>208.0</td>\n    </tr>\n    <tr>\n      <th>11</th>\n      <td>DIVISLAB</td>\n      <td>0.0077</td>\n      <td>20.0</td>\n      <td>20.0</td>\n      <td>20.0</td>\n      <td>20.0</td>\n      <td>20.0</td>\n      <td>21.0</td>\n      <td>21.0</td>\n      <td>21.0</td>\n      <td>21.0</td>\n      <td>21.0</td>\n      <td>21.0</td>\n      <td>21.0</td>\n      <td>21.0</td>\n      <td>21.0</td>\n      <td>21.0</td>\n      <td>21.0</td>\n      <td>21.0</td>\n      <td>21.0</td>\n    </tr>\n    <tr>\n      <th>12</th>\n      <td>DRREDDY</td>\n      <td>0.0067</td>\n      <td>15.0</td>\n      <td>15.0</td>\n      <td>15.0</td>\n      <td>15.0</td>\n      <td>15.0</td>\n      <td>15.0</td>\n      <td>15.0</td>\n      <td>15.0</td>\n      <td>15.0</td>\n      <td>15.0</td>\n      <td>15.0</td>\n      <td>15.0</td>\n      <td>15.0</td>\n      <td>15.0</td>\n      <td>15.0</td>\n      <td>15.0</td>\n      <td>14.0</td>\n      <td>15.0</td>\n    </tr>\n    <tr>\n      <th>13</th>\n      <td>EICHERMOT</td>\n      <td>0.0049</td>\n      <td>14.0</td>\n      <td>13.0</td>\n      <td>13.0</td>\n      <td>14.0</td>\n      <td>13.0</td>\n      <td>14.0</td>\n      <td>14.0</td>\n      <td>14.0</td>\n      <td>14.0</td>\n      <td>13.0</td>\n      <td>13.0</td>\n      <td>13.0</td>\n      <td>13.0</td>\n      <td>13.0</td>\n      <td>13.0</td>\n      <td>13.0</td>\n      <td>13.0</td>\n      <td>13.0</td>\n    </tr>\n    <tr>\n      <th>14</th>\n      <td>GRASIM</td>\n      <td>0.0085</td>\n      <td>51.0</td>\n      <td>50.0</td>\n      <td>50.0</td>\n      <td>50.0</td>\n      <td>50.0</td>\n      <td>51.0</td>\n      <td>50.0</td>\n      <td>50.0</td>\n      <td>50.0</td>\n      <td>50.0</td>\n      <td>50.0</td>\n      <td>50.0</td>\n      <td>50.0</td>\n      <td>50.0</td>\n      <td>50.0</td>\n      <td>49.0</td>\n      <td>49.0</td>\n      <td>50.0</td>\n    </tr>\n    <tr>\n      <th>15</th>\n      <td>HCLTECH</td>\n      <td>0.0153</td>\n      <td>164.0</td>\n      <td>161.0</td>\n      <td>158.0</td>\n      <td>159.0</td>\n      <td>158.0</td>\n      <td>163.0</td>\n      <td>160.0</td>\n      <td>155.0</td>\n      <td>152.0</td>\n      <td>153.0</td>\n      <td>151.0</td>\n      <td>153.0</td>\n      <td>150.0</td>\n      <td>148.0</td>\n      <td>148.0</td>\n      <td>149.0</td>\n      <td>148.0</td>\n      <td>148.0</td>\n    </tr>\n    <tr>\n      <th>16</th>\n      <td>HDFCBANK</td>\n      <td>0.0810</td>\n      <td>573.0</td>\n      <td>557.0</td>\n      <td>563.0</td>\n      <td>566.0</td>\n      <td>572.0</td>\n      <td>578.0</td>\n      <td>574.0</td>\n      <td>581.0</td>\n      <td>562.0</td>\n      <td>559.0</td>\n      <td>561.0</td>\n      <td>555.0</td>\n      <td>559.0</td>\n      <td>563.0</td>\n      <td>554.0</td>\n      <td>558.0</td>\n      <td>556.0</td>\n      <td>555.0</td>\n    </tr>\n    <tr>\n      <th>17</th>\n      <td>HDFCLIFE</td>\n      <td>0.0072</td>\n      <td>138.0</td>\n      <td>135.0</td>\n      <td>135.0</td>\n      <td>136.0</td>\n      <td>135.0</td>\n      <td>137.0</td>\n      <td>136.0</td>\n      <td>138.0</td>\n      <td>137.0</td>\n      <td>137.0</td>\n      <td>135.0</td>\n      <td>135.0</td>\n      <td>134.0</td>\n      <td>132.0</td>\n      <td>132.0</td>\n      <td>134.0</td>\n      <td>135.0</td>\n      <td>135.0</td>\n    </tr>\n    <tr>\n      <th>18</th>\n      <td>HEROMOTOCO</td>\n      <td>0.0043</td>\n      <td>17.0</td>\n      <td>16.0</td>\n      <td>16.0</td>\n      <td>16.0</td>\n      <td>16.0</td>\n      <td>16.0</td>\n      <td>16.0</td>\n      <td>16.0</td>\n      <td>16.0</td>\n      <td>16.0</td>\n      <td>16.0</td>\n      <td>16.0</td>\n      <td>16.0</td>\n      <td>16.0</td>\n      <td>16.0</td>\n      <td>16.0</td>\n      <td>16.0</td>\n      <td>16.0</td>\n    </tr>\n    <tr>\n      <th>19</th>\n      <td>HINDALCO</td>\n      <td>0.0094</td>\n      <td>246.0</td>\n      <td>238.0</td>\n      <td>227.0</td>\n      <td>228.0</td>\n      <td>230.0</td>\n      <td>237.0</td>\n      <td>234.0</td>\n      <td>234.0</td>\n      <td>236.0</td>\n      <td>242.0</td>\n      <td>238.0</td>\n      <td>240.0</td>\n      <td>237.0</td>\n      <td>238.0</td>\n      <td>237.0</td>\n      <td>235.0</td>\n      <td>227.0</td>\n      <td>232.0</td>\n    </tr>\n    <tr>\n      <th>20</th>\n      <td>HINDUNILVR</td>\n      <td>0.0267</td>\n      <td>101.0</td>\n      <td>100.0</td>\n      <td>102.0</td>\n      <td>102.0</td>\n      <td>102.0</td>\n      <td>104.0</td>\n      <td>103.0</td>\n      <td>104.0</td>\n      <td>103.0</td>\n      <td>103.0</td>\n      <td>102.0</td>\n      <td>103.0</td>\n      <td>102.0</td>\n      <td>100.0</td>\n      <td>103.0</td>\n      <td>106.0</td>\n      <td>105.0</td>\n      <td>105.0</td>\n    </tr>\n    <tr>\n      <th>21</th>\n      <td>ICICIBANK</td>\n      <td>0.0690</td>\n      <td>813.0</td>\n      <td>795.0</td>\n      <td>779.0</td>\n      <td>781.0</td>\n      <td>782.0</td>\n      <td>792.0</td>\n      <td>794.0</td>\n      <td>808.0</td>\n      <td>792.0</td>\n      <td>779.0</td>\n      <td>769.0</td>\n      <td>773.0</td>\n      <td>776.0</td>\n      <td>760.0</td>\n      <td>744.0</td>\n      <td>745.0</td>\n      <td>746.0</td>\n      <td>760.0</td>\n    </tr>\n    <tr>\n      <th>22</th>\n      <td>INDUSINDBK</td>\n      <td>0.0085</td>\n      <td>73.0</td>\n      <td>69.0</td>\n      <td>70.0</td>\n      <td>70.0</td>\n      <td>70.0</td>\n      <td>72.0</td>\n      <td>71.0</td>\n      <td>71.0</td>\n      <td>71.0</td>\n      <td>70.0</td>\n      <td>69.0</td>\n      <td>69.0</td>\n      <td>73.0</td>\n      <td>74.0</td>\n      <td>74.0</td>\n      <td>74.0</td>\n      <td>74.0</td>\n      <td>74.0</td>\n    </tr>\n    <tr>\n      <th>23</th>\n      <td>INFY</td>\n      <td>0.0766</td>\n      <td>549.0</td>\n      <td>535.0</td>\n      <td>526.0</td>\n      <td>527.0</td>\n      <td>523.0</td>\n      <td>537.0</td>\n      <td>536.0</td>\n      <td>539.0</td>\n      <td>519.0</td>\n      <td>514.0</td>\n      <td>509.0</td>\n      <td>515.0</td>\n      <td>510.0</td>\n      <td>510.0</td>\n      <td>504.0</td>\n      <td>501.0</td>\n      <td>502.0</td>\n      <td>506.0</td>\n    </tr>\n    <tr>\n      <th>24</th>\n      <td>ITC</td>\n      <td>0.0303</td>\n      <td>934.0</td>\n      <td>910.0</td>\n      <td>900.0</td>\n      <td>906.0</td>\n      <td>924.0</td>\n      <td>928.0</td>\n      <td>917.0</td>\n      <td>921.0</td>\n      <td>912.0</td>\n      <td>911.0</td>\n      <td>890.0</td>\n      <td>874.0</td>\n      <td>866.0</td>\n      <td>876.0</td>\n      <td>871.0</td>\n      <td>874.0</td>\n      <td>876.0</td>\n      <td>876.0</td>\n    </tr>\n    <tr>\n      <th>25</th>\n      <td>JSWSTEEL</td>\n      <td>0.0094</td>\n      <td>150.0</td>\n      <td>146.0</td>\n      <td>139.0</td>\n      <td>141.0</td>\n      <td>141.0</td>\n      <td>146.0</td>\n      <td>144.0</td>\n      <td>144.0</td>\n      <td>146.0</td>\n      <td>148.0</td>\n      <td>147.0</td>\n      <td>150.0</td>\n      <td>149.0</td>\n      <td>151.0</td>\n      <td>149.0</td>\n      <td>145.0</td>\n      <td>138.0</td>\n      <td>140.0</td>\n    </tr>\n    <tr>\n      <th>26</th>\n      <td>KOTAKBANK</td>\n      <td>0.0351</td>\n      <td>196.0</td>\n      <td>192.0</td>\n      <td>192.0</td>\n      <td>192.0</td>\n      <td>194.0</td>\n      <td>196.0</td>\n      <td>193.0</td>\n      <td>194.0</td>\n      <td>191.0</td>\n      <td>188.0</td>\n      <td>188.0</td>\n      <td>187.0</td>\n      <td>188.0</td>\n      <td>184.0</td>\n      <td>185.0</td>\n      <td>190.0</td>\n      <td>188.0</td>\n      <td>186.0</td>\n    </tr>\n    <tr>\n      <th>27</th>\n      <td>LT</td>\n      <td>0.0274</td>\n      <td>150.0</td>\n      <td>146.0</td>\n      <td>143.0</td>\n      <td>142.0</td>\n      <td>143.0</td>\n      <td>145.0</td>\n      <td>143.0</td>\n      <td>146.0</td>\n      <td>143.0</td>\n      <td>145.0</td>\n      <td>142.0</td>\n      <td>143.0</td>\n      <td>143.0</td>\n      <td>145.0</td>\n      <td>143.0</td>\n      <td>140.0</td>\n      <td>139.0</td>\n      <td>138.0</td>\n    </tr>\n    <tr>\n      <th>28</th>\n      <td>MARUTI</td>\n      <td>0.0137</td>\n      <td>16.0</td>\n      <td>15.0</td>\n      <td>15.0</td>\n      <td>15.0</td>\n      <td>15.0</td>\n      <td>15.0</td>\n      <td>15.0</td>\n      <td>15.0</td>\n      <td>15.0</td>\n      <td>15.0</td>\n      <td>15.0</td>\n      <td>15.0</td>\n      <td>15.0</td>\n      <td>15.0</td>\n      <td>15.0</td>\n      <td>15.0</td>\n      <td>15.0</td>\n      <td>14.0</td>\n    </tr>\n    <tr>\n      <th>29</th>\n      <td>NESTLEIND</td>\n      <td>0.0087</td>\n      <td>4.0</td>\n      <td>4.0</td>\n      <td>4.0</td>\n      <td>4.0</td>\n      <td>4.0</td>\n      <td>4.0</td>\n      <td>4.0</td>\n      <td>4.0</td>\n      <td>4.0</td>\n      <td>4.0</td>\n      <td>4.0</td>\n      <td>4.0</td>\n      <td>4.0</td>\n      <td>4.0</td>\n      <td>4.0</td>\n      <td>4.0</td>\n      <td>4.0</td>\n      <td>4.0</td>\n    </tr>\n    <tr>\n      <th>30</th>\n      <td>NTPC</td>\n      <td>0.0099</td>\n      <td>617.0</td>\n      <td>609.0</td>\n      <td>607.0</td>\n      <td>602.0</td>\n      <td>603.0</td>\n      <td>614.0</td>\n      <td>600.0</td>\n      <td>600.0</td>\n      <td>599.0</td>\n      <td>587.0</td>\n      <td>592.0</td>\n      <td>603.0</td>\n      <td>592.0</td>\n      <td>599.0</td>\n      <td>592.0</td>\n      <td>584.0</td>\n      <td>580.0</td>\n      <td>568.0</td>\n    </tr>\n    <tr>\n      <th>31</th>\n      <td>ONGC</td>\n      <td>0.0078</td>\n      <td>589.0</td>\n      <td>582.0</td>\n      <td>588.0</td>\n      <td>581.0</td>\n      <td>585.0</td>\n      <td>594.0</td>\n      <td>593.0</td>\n      <td>600.0</td>\n      <td>611.0</td>\n      <td>610.0</td>\n      <td>606.0</td>\n      <td>610.0</td>\n      <td>601.0</td>\n      <td>592.0</td>\n      <td>587.0</td>\n      <td>596.0</td>\n      <td>591.0</td>\n      <td>583.0</td>\n    </tr>\n    <tr>\n      <th>32</th>\n      <td>POWERGRID</td>\n      <td>0.0104</td>\n      <td>493.0</td>\n      <td>498.0</td>\n      <td>504.0</td>\n      <td>496.0</td>\n      <td>497.0</td>\n      <td>499.0</td>\n      <td>482.0</td>\n      <td>486.0</td>\n      <td>489.0</td>\n      <td>490.0</td>\n      <td>489.0</td>\n      <td>486.0</td>\n      <td>478.0</td>\n      <td>478.0</td>\n      <td>475.0</td>\n      <td>475.0</td>\n      <td>464.0</td>\n      <td>458.0</td>\n    </tr>\n    <tr>\n      <th>33</th>\n      <td>RELIANCE</td>\n      <td>0.1286</td>\n      <td>542.0</td>\n      <td>532.0</td>\n      <td>530.0</td>\n      <td>528.0</td>\n      <td>534.0</td>\n      <td>545.0</td>\n      <td>541.0</td>\n      <td>539.0</td>\n      <td>542.0</td>\n      <td>533.0</td>\n      <td>524.0</td>\n      <td>515.0</td>\n      <td>514.0</td>\n      <td>520.0</td>\n      <td>518.0</td>\n      <td>526.0</td>\n      <td>524.0</td>\n      <td>509.0</td>\n    </tr>\n    <tr>\n      <th>34</th>\n      <td>SBILIFE</td>\n      <td>0.0065</td>\n      <td>52.0</td>\n      <td>51.0</td>\n      <td>52.0</td>\n      <td>52.0</td>\n      <td>52.0</td>\n      <td>53.0</td>\n      <td>53.0</td>\n      <td>54.0</td>\n      <td>55.0</td>\n      <td>54.0</td>\n      <td>53.0</td>\n      <td>52.0</td>\n      <td>53.0</td>\n      <td>52.0</td>\n      <td>51.0</td>\n      <td>51.0</td>\n      <td>51.0</td>\n      <td>51.0</td>\n    </tr>\n    <tr>\n      <th>35</th>\n      <td>SBIN</td>\n      <td>0.0254</td>\n      <td>488.0</td>\n      <td>476.0</td>\n      <td>472.0</td>\n      <td>479.0</td>\n      <td>478.0</td>\n      <td>481.0</td>\n      <td>475.0</td>\n      <td>487.0</td>\n      <td>481.0</td>\n      <td>467.0</td>\n      <td>451.0</td>\n      <td>458.0</td>\n      <td>457.0</td>\n      <td>452.0</td>\n      <td>445.0</td>\n      <td>439.0</td>\n      <td>438.0</td>\n      <td>445.0</td>\n    </tr>\n    <tr>\n      <th>36</th>\n      <td>SHREECEM</td>\n      <td>0.0046</td>\n      <td>2.0</td>\n      <td>2.0</td>\n      <td>2.0</td>\n      <td>2.0</td>\n      <td>2.0</td>\n      <td>2.0</td>\n      <td>2.0</td>\n      <td>2.0</td>\n      <td>2.0</td>\n      <td>2.0</td>\n      <td>2.0</td>\n      <td>2.0</td>\n      <td>2.0</td>\n      <td>2.0</td>\n      <td>2.0</td>\n      <td>2.0</td>\n      <td>2.0</td>\n      <td>2.0</td>\n    </tr>\n    <tr>\n      <th>37</th>\n      <td>SUNPHARMA</td>\n      <td>0.0134</td>\n      <td>141.0</td>\n      <td>141.0</td>\n      <td>140.0</td>\n      <td>140.0</td>\n      <td>141.0</td>\n      <td>141.0</td>\n      <td>140.0</td>\n      <td>138.0</td>\n      <td>137.0</td>\n      <td>136.0</td>\n      <td>136.0</td>\n      <td>137.0</td>\n      <td>136.0</td>\n      <td>137.0</td>\n      <td>135.0</td>\n      <td>135.0</td>\n      <td>132.0</td>\n      <td>135.0</td>\n    </tr>\n    <tr>\n      <th>38</th>\n      <td>TATACONSUM</td>\n      <td>0.0066</td>\n      <td>84.0</td>\n      <td>84.0</td>\n      <td>83.0</td>\n      <td>84.0</td>\n      <td>87.0</td>\n      <td>88.0</td>\n      <td>87.0</td>\n      <td>87.0</td>\n      <td>86.0</td>\n      <td>86.0</td>\n      <td>85.0</td>\n      <td>86.0</td>\n      <td>85.0</td>\n      <td>86.0</td>\n      <td>85.0</td>\n      <td>86.0</td>\n      <td>85.0</td>\n      <td>86.0</td>\n    </tr>\n    <tr>\n      <th>39</th>\n      <td>TATAMOTORS</td>\n      <td>0.0105</td>\n      <td>264.0</td>\n      <td>257.0</td>\n      <td>253.0</td>\n      <td>254.0</td>\n      <td>265.0</td>\n      <td>266.0</td>\n      <td>264.0</td>\n      <td>263.0</td>\n      <td>264.0</td>\n      <td>265.0</td>\n      <td>259.0</td>\n      <td>263.0</td>\n      <td>263.0</td>\n      <td>263.0</td>\n      <td>261.0</td>\n      <td>259.0</td>\n      <td>257.0</td>\n      <td>256.0</td>\n    </tr>\n    <tr>\n      <th>40</th>\n      <td>TATASTEEL</td>\n      <td>0.0137</td>\n      <td>1392.0</td>\n      <td>1354.0</td>\n      <td>1323.0</td>\n      <td>1326.0</td>\n      <td>1327.0</td>\n      <td>1365.0</td>\n      <td>1362.0</td>\n      <td>1368.0</td>\n      <td>1368.0</td>\n      <td>1376.0</td>\n      <td>1361.0</td>\n      <td>1369.0</td>\n      <td>1357.0</td>\n      <td>1367.0</td>\n      <td>1353.0</td>\n      <td>1353.0</td>\n      <td>1314.0</td>\n      <td>1348.0</td>\n    </tr>\n    <tr>\n      <th>41</th>\n      <td>TCS</td>\n      <td>0.0491</td>\n      <td>164.0</td>\n      <td>158.0</td>\n      <td>158.0</td>\n      <td>160.0</td>\n      <td>157.0</td>\n      <td>159.0</td>\n      <td>158.0</td>\n      <td>158.0</td>\n      <td>158.0</td>\n      <td>157.0</td>\n      <td>156.0</td>\n      <td>157.0</td>\n      <td>155.0</td>\n      <td>156.0</td>\n      <td>155.0</td>\n      <td>155.0</td>\n      <td>155.0</td>\n      <td>155.0</td>\n    </tr>\n    <tr>\n      <th>42</th>\n      <td>TECHM</td>\n      <td>0.0105</td>\n      <td>104.0</td>\n      <td>102.0</td>\n      <td>101.0</td>\n      <td>102.0</td>\n      <td>102.0</td>\n      <td>104.0</td>\n      <td>103.0</td>\n      <td>103.0</td>\n      <td>102.0</td>\n      <td>102.0</td>\n      <td>103.0</td>\n      <td>103.0</td>\n      <td>100.0</td>\n      <td>100.0</td>\n      <td>100.0</td>\n      <td>96.0</td>\n      <td>97.0</td>\n      <td>100.0</td>\n    </tr>\n    <tr>\n      <th>43</th>\n      <td>TITAN</td>\n      <td>0.0137</td>\n      <td>53.0</td>\n      <td>52.0</td>\n      <td>52.0</td>\n      <td>50.0</td>\n      <td>51.0</td>\n      <td>52.0</td>\n      <td>52.0</td>\n      <td>52.0</td>\n      <td>52.0</td>\n      <td>52.0</td>\n      <td>51.0</td>\n      <td>51.0</td>\n      <td>52.0</td>\n      <td>51.0</td>\n      <td>51.0</td>\n      <td>51.0</td>\n      <td>50.0</td>\n      <td>50.0</td>\n    </tr>\n    <tr>\n      <th>44</th>\n      <td>ULTRACEMCO</td>\n      <td>0.0102</td>\n      <td>16.0</td>\n      <td>16.0</td>\n      <td>16.0</td>\n      <td>16.0</td>\n      <td>16.0</td>\n      <td>16.0</td>\n      <td>16.0</td>\n      <td>16.0</td>\n      <td>16.0</td>\n      <td>16.0</td>\n      <td>16.0</td>\n      <td>15.0</td>\n      <td>16.0</td>\n      <td>16.0</td>\n      <td>15.0</td>\n      <td>15.0</td>\n      <td>15.0</td>\n      <td>15.0</td>\n    </tr>\n    <tr>\n      <th>45</th>\n      <td>UPL</td>\n      <td>0.0060</td>\n      <td>90.0</td>\n      <td>86.0</td>\n      <td>87.0</td>\n      <td>86.0</td>\n      <td>87.0</td>\n      <td>90.0</td>\n      <td>89.0</td>\n      <td>90.0</td>\n      <td>88.0</td>\n      <td>88.0</td>\n      <td>87.0</td>\n      <td>88.0</td>\n      <td>84.0</td>\n      <td>85.0</td>\n      <td>84.0</td>\n      <td>86.0</td>\n      <td>84.0</td>\n      <td>84.0</td>\n    </tr>\n    <tr>\n      <th>46</th>\n      <td>WIPRO</td>\n      <td>0.0101</td>\n      <td>256.0</td>\n      <td>249.0</td>\n      <td>246.0</td>\n      <td>247.0</td>\n      <td>245.0</td>\n      <td>249.0</td>\n      <td>247.0</td>\n      <td>266.0</td>\n      <td>267.0</td>\n      <td>269.0</td>\n      <td>266.0</td>\n      <td>267.0</td>\n      <td>264.0</td>\n      <td>264.0</td>\n      <td>262.0</td>\n      <td>262.0</td>\n      <td>263.0</td>\n      <td>263.0</td>\n    </tr>\n    <tr>\n      <th>47</th>\n      <td>NaN</td>\n      <td>NaN</td>\n      <td>10955.0</td>\n      <td>10717.0</td>\n      <td>10625.0</td>\n      <td>10639.0</td>\n      <td>10681.0</td>\n      <td>10845.0</td>\n      <td>10744.0</td>\n      <td>10828.0</td>\n      <td>10767.0</td>\n      <td>10714.0</td>\n      <td>10597.0</td>\n      <td>10619.0</td>\n      <td>10546.0</td>\n      <td>10532.0</td>\n      <td>10435.0</td>\n      <td>10448.0</td>\n      <td>10347.0</td>\n      <td>10375.0</td>\n    </tr>\n  </tbody>\n</table>\n</div>"
     },
     "execution_count": 45,
     "metadata": {},
     "output_type": "execute_result"
    }
   ],
   "source": [
    "df"
   ],
   "metadata": {
    "collapsed": false
   }
  },
  {
   "cell_type": "code",
   "execution_count": 46,
   "outputs": [],
   "source": [
    "df.to_csv('output.csv', index=False)"
   ],
   "metadata": {
    "collapsed": false
   }
  },
  {
   "cell_type": "code",
   "execution_count": 37,
   "outputs": [],
   "source": [],
   "metadata": {
    "collapsed": false
   }
  }
 ],
 "metadata": {
  "kernelspec": {
   "display_name": "Python 3",
   "language": "python",
   "name": "python3"
  },
  "language_info": {
   "codemirror_mode": {
    "name": "ipython",
    "version": 2
   },
   "file_extension": ".py",
   "mimetype": "text/x-python",
   "name": "python",
   "nbconvert_exporter": "python",
   "pygments_lexer": "ipython2",
   "version": "2.7.6"
  }
 },
 "nbformat": 4,
 "nbformat_minor": 0
}
